{
 "cells": [
  {
   "cell_type": "code",
   "execution_count": 1,
   "metadata": {},
   "outputs": [],
   "source": [
    "# introducing pandas objects\n",
    "# pandas objects can be thought of as enhanced versions of numpy structured arrays\n",
    "# three fundamental data structures: series, dataframe, index\n",
    "import numpy as np\n",
    "import pandas as pd"
   ]
  },
  {
   "cell_type": "code",
   "execution_count": 12,
   "metadata": {},
   "outputs": [
    {
     "data": {
      "text/plain": [
       "39538223"
      ]
     },
     "execution_count": 12,
     "metadata": {},
     "output_type": "execute_result"
    }
   ],
   "source": [
    "# pandas series is a one dimensional array of indexed data\n",
    "# can be created from a list or array\n",
    "data = pd.Series([1, 2, 3])\n",
    "\n",
    "# series combines a sequence of values wiht an explicit sequence of indicies\n",
    "data.values\n",
    "data.index\n",
    "\n",
    "# can access data with normal indexing\n",
    "data[1]\n",
    "data[1:3]\n",
    "\n",
    "# numpy array has implicitly defined integer index to access avlues\n",
    "# pandas series has explicitly defined integer index associated with values\n",
    "# this gives the series for capabilities\n",
    "data = pd.Series([1, 2, 3, 4], index=[\"a\", \"b\", \"c\", \"d\"])\n",
    "data[\"a\"]\n",
    "\n",
    "data = pd.Series([1, 2, 3, 4], index=[2, 3, 5, 7])\n",
    "data[5]\n",
    "\n",
    "# can think of a series like a specialization of a python dicitonary\n",
    "population_dict = {'California': 39538223, 'Texas': 29145505,\n",
    "'Florida': 21538187, 'New York': 20201249,\n",
    "'Pennsylvania': 13002700}\n",
    "population = pd.Series(population_dict)\n",
    "population[\"California\"]\n",
    "\n",
    "# constructing series objects\n",
    "# all have some version of the following: pd.Series(data, index=index)\n",
    "pd.Series([2, 4, 6]) # index defaults to integer sequence\n",
    "pd.Series(5, index=[100, 200, 300]) # data can be a scaler that is repeated\n",
    "pd.Series({2:\"a\", 1:\"b\"}) # can be dict where index defaults to dict keys\n",
    "\n"
   ]
  },
  {
   "cell_type": "code",
   "execution_count": 21,
   "metadata": {},
   "outputs": [
    {
     "data": {
      "text/html": [
       "<div>\n",
       "<style scoped>\n",
       "    .dataframe tbody tr th:only-of-type {\n",
       "        vertical-align: middle;\n",
       "    }\n",
       "\n",
       "    .dataframe tbody tr th {\n",
       "        vertical-align: top;\n",
       "    }\n",
       "\n",
       "    .dataframe thead th {\n",
       "        text-align: right;\n",
       "    }\n",
       "</style>\n",
       "<table border=\"1\" class=\"dataframe\">\n",
       "  <thead>\n",
       "    <tr style=\"text-align: right;\">\n",
       "      <th></th>\n",
       "      <th>A</th>\n",
       "      <th>B</th>\n",
       "    </tr>\n",
       "  </thead>\n",
       "  <tbody>\n",
       "    <tr>\n",
       "      <th>0</th>\n",
       "      <td>0</td>\n",
       "      <td>0.0</td>\n",
       "    </tr>\n",
       "    <tr>\n",
       "      <th>1</th>\n",
       "      <td>0</td>\n",
       "      <td>0.0</td>\n",
       "    </tr>\n",
       "    <tr>\n",
       "      <th>2</th>\n",
       "      <td>0</td>\n",
       "      <td>0.0</td>\n",
       "    </tr>\n",
       "  </tbody>\n",
       "</table>\n",
       "</div>"
      ],
      "text/plain": [
       "   A    B\n",
       "0  0  0.0\n",
       "1  0  0.0\n",
       "2  0  0.0"
      ]
     },
     "execution_count": 21,
     "metadata": {},
     "output_type": "execute_result"
    }
   ],
   "source": [
    "# dataframe is an analog of a two dimensional array with explicit row and column indicies\n",
    "# think of dataframe as sequence of aligned series objects\n",
    "area_dict = {'California': 423967, 'Texas': 695662, 'Florida': 170312,\n",
    "'New York': 141297, 'Pennsylvania': 119280}\n",
    "area = pd.Series(area_dict)\n",
    "states = pd.DataFrame({\"population\": population, \"area\": area}) # constructs a dataframe from the series\n",
    "\n",
    "# has index attribute that gives access to the index labes\n",
    "states.index\n",
    "\n",
    "# also has columns attribute which has the column labels\n",
    "states.columns\n",
    "\n",
    "# can also think of it as a specialization of a dictionary\n",
    "# mapes column name to a series of column data\n",
    "states[\"area\"]\n",
    "\n",
    "# can be constructed in several ways\n",
    "# from a single series object\n",
    "pd.DataFrame(population, columns=[\"population\"])\n",
    "# from a list of dicts\n",
    "data = [{\"a\": i, \"b\": 2 * i} for i in range(3)]\n",
    "pd.DataFrame(data)\n",
    "# from a dictionary of series objects\n",
    "pd.DataFrame({\"population\": population, \"area\": area}) \n",
    "# from td numpy array\n",
    "pd.DataFrame(np.random.rand(3, 2), columns=[\"foo\", \"bar\"], index=[\"a\", \"b\", \"c\"])\n",
    "# from numpy structured array\n",
    "A = np.zeros(3, dtype=[('A', 'i8'), ('B', 'f8')])\n",
    "pd.DataFrame(A)"
   ]
  },
  {
   "cell_type": "code",
   "execution_count": 26,
   "metadata": {},
   "outputs": [
    {
     "data": {
      "text/plain": [
       "Index([1, 2, 9, 11], dtype='int64')"
      ]
     },
     "execution_count": 26,
     "metadata": {},
     "output_type": "execute_result"
    }
   ],
   "source": [
    "# pandas index object\n",
    "# can be thought of either as an immutable array or as an ordered set\n",
    "ind = pd.Index([2, 3, 5, 7, 11])\n",
    "\n",
    "# operates like an array in many ways\n",
    "ind[1]\n",
    "ind[::2]\n",
    "\n",
    "# indicies are immutable\n",
    "# ind[1] = 0 -> this does not work\n",
    "\n",
    "# designed to faciitate operations across datasets\n",
    "indA = pd.Index([1, 3, 5, 7, 9])\n",
    "indB = pd.Index([2, 3, 5, 7, 11])\n",
    "indA.intersection(indB)\n",
    "indA.union(indB)\n",
    "indA.symmetric_difference(indB)"
   ]
  },
  {
   "cell_type": "code",
   "execution_count": null,
   "metadata": {},
   "outputs": [],
   "source": []
  }
 ],
 "metadata": {
  "kernelspec": {
   "display_name": "Python 3",
   "language": "python",
   "name": "python3"
  },
  "language_info": {
   "codemirror_mode": {
    "name": "ipython",
    "version": 3
   },
   "file_extension": ".py",
   "mimetype": "text/x-python",
   "name": "python",
   "nbconvert_exporter": "python",
   "pygments_lexer": "ipython3",
   "version": "3.10.7"
  },
  "orig_nbformat": 4
 },
 "nbformat": 4,
 "nbformat_minor": 2
}
