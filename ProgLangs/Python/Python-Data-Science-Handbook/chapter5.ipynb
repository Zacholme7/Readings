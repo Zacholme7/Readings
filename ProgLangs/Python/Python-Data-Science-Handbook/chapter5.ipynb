{
 "cells": [
  {
   "cell_type": "code",
   "execution_count": 1,
   "metadata": {},
   "outputs": [],
   "source": [
    "# The Basics of NumPy Arrays"
   ]
  },
  {
   "cell_type": "code",
   "execution_count": 2,
   "metadata": {},
   "outputs": [
    {
     "name": "stdout",
     "output_type": "stream",
     "text": [
      "x1:  [9 4 0 3 8 6]\n",
      "x2:  [[3 1 3 7]\n",
      " [4 0 2 3]\n",
      " [0 0 6 9]]\n",
      "x3:  [[[4 3 5 5 0]\n",
      "  [8 3 5 2 2]\n",
      "  [1 8 8 5 3]\n",
      "  [0 0 8 5 8]]\n",
      "\n",
      " [[5 1 6 2 3]\n",
      "  [1 2 5 6 2]\n",
      "  [5 2 7 9 3]\n",
      "  [5 6 0 2 0]]\n",
      "\n",
      " [[2 9 4 3 9]\n",
      "  [9 2 2 4 0]\n",
      "  [0 3 0 0 2]\n",
      "  [3 2 7 4 7]]]\n",
      "x3 ndim:  3\n",
      "x3 shape:  (3, 4, 5)\n",
      "x3 size:  60\n",
      "x3 dtype:  int64\n"
     ]
    }
   ],
   "source": [
    "import numpy as np # default import\n",
    "rng = np.random.default_rng(seed = 1701) # sets a seed for reproducibility, same random arrays will be generated\n",
    "\n",
    "x1 = rng.integers(10, size=6) # one dimensional array\n",
    "x2 = rng.integers(10, size=(3, 4)) # two dimensional array\n",
    "x3 = rng.integers(10, size=(3, 4, 5)) # three dimensional array\n",
    "print(\"x1: \", x1)\n",
    "print(\"x2: \", x2)\n",
    "print(\"x3: \", x3)\n",
    "\n",
    "## each array has various properties\n",
    "# ndim: the number of dimensions\n",
    "# shape: the size of each dimension\n",
    "# size: the total size of the array\n",
    "# dtype: the type of each element\n",
    "print(\"x3 ndim: \", x3.ndim)\n",
    "print(\"x3 shape: \", x3.shape)\n",
    "print(\"x3 size: \", x3.size)\n",
    "print(\"x3 dtype: \", x3.dtype)"
   ]
  },
  {
   "cell_type": "code",
   "execution_count": 3,
   "metadata": {},
   "outputs": [],
   "source": [
    "# indexing is similar to normal python\n",
    "# in one dimensional array, can just use ith index to access\n",
    "x1[0]\n",
    "x1[4]\n",
    "x1[-1] # index from the end\n",
    "\n",
    "# multidimensonal arrays accessed using comma separated tuple\n",
    "x2[0, 0]\n",
    "x2[2, -1]\n",
    "x2[0, 0] = 12 # can also be modified"
   ]
  },
  {
   "cell_type": "code",
   "execution_count": 7,
   "metadata": {},
   "outputs": [
    {
     "data": {
      "text/plain": [
       "array([3, 1, 3, 7])"
      ]
     },
     "execution_count": 7,
     "metadata": {},
     "output_type": "execute_result"
    }
   ],
   "source": [
    "# can also do slicing in the same way as python\n",
    "# x[start:stop:step]\n",
    "\n",
    "x1[:3] # first 3 elements\n",
    "x1[3:] # all elements after index 3\n",
    "x1[1:4] # middle subarary\n",
    "x1[::2] # every second element\n",
    "\n",
    "x2[:2, :3] # first two twos & three columns\n",
    "x2[:3, ::2] # three rows, every second column\n",
    "\n",
    "#commonly need to access single rows or columns\n",
    "x2[:, 0] # first column of x2\n",
    "x2[0, :] # first row of x2"
   ]
  },
  {
   "cell_type": "code",
   "execution_count": 9,
   "metadata": {},
   "outputs": [
    {
     "data": {
      "text/plain": [
       "array([[99,  1,  3,  7],\n",
       "       [ 4,  0,  2,  3],\n",
       "       [ 0,  0,  6,  9]])"
      ]
     },
     "execution_count": 9,
     "metadata": {},
     "output_type": "execute_result"
    }
   ],
   "source": [
    "# numpy arrays slives are returned as views rather than copies\n",
    "# modifying a slice will modify the original\n",
    "x2_sub = x2[:2, :2]\n",
    "x2_sub[0, 0] = 99\n",
    "x2\n"
   ]
  },
  {
   "cell_type": "code",
   "execution_count": 10,
   "metadata": {},
   "outputs": [],
   "source": [
    "# can still copy arrays or subarrays with the \"copy\" method\n",
    "x2_sub_copy = x2[:2, :2].copy()\n",
    "x2_sub_copy = 100 # will not modify the original"
   ]
  },
  {
   "cell_type": "code",
   "execution_count": 12,
   "metadata": {},
   "outputs": [
    {
     "data": {
      "text/plain": [
       "array([[1],\n",
       "       [2],\n",
       "       [3]])"
      ]
     },
     "execution_count": 12,
     "metadata": {},
     "output_type": "execute_result"
    }
   ],
   "source": [
    "# reshapng arrays can be done with the \"reshape\" method\n",
    "# size of initial array much match the size of the reshaped array\n",
    "# will return no copy view of the original array\n",
    "grid = np.arange(1, 10).reshape(3, 3) # turns sequence of 1-9 into 3x3 array\n",
    "\n",
    "# common operation is converting 1D array into two dimensional row/column matrix\n",
    "x = np.array([1, 2, 3])\n",
    "x.reshape((1, 3)) # row vector via reshape\n",
    "x.reshape((3, 1)) # column vector via reshape\n",
    "\n",
    "# shorthand is to use \"np.newaxis\" in the slicing syntax\n",
    "x[np.newaxis, :] # row vector via newaxis\n",
    "x[:, np.newaxis] # column vector via newaxis"
   ]
  },
  {
   "cell_type": "code",
   "execution_count": 26,
   "metadata": {},
   "outputs": [
    {
     "data": {
      "text/plain": [
       "array([[ 1,  2,  3, 99],\n",
       "       [ 4,  5,  6, 99]])"
      ]
     },
     "execution_count": 26,
     "metadata": {},
     "output_type": "execute_result"
    }
   ],
   "source": [
    "# can combine multiple arrays into one or split one up\n",
    "# concatination is accomplised using \"np.concatenate, np.vstack, np.hstack\"\n",
    "x = np.array([1, 2, 3])\n",
    "y = np.array([3, 2, 1])\n",
    "np.concatenate([x, y]) # concatenate x and y togeter\n",
    "\n",
    "z = np.array([99, 99, 99])\n",
    "np.concatenate([x, y, z]) # can concatenate multiple at once\n",
    "\n",
    "# can be used for 2D arrays\n",
    "grid = np.arange(1, 7).reshape(2, 3)\n",
    "np.concatenate([grid, grid]) # concatenate along the first axis\n",
    "np.concatenate([grid, grid], axis = 1) # concatenate along the second axis\n",
    "\n",
    "# for arrays of mixed dimensions, it can be easier to use \"np.vstack\" and \"np.hstack\"\n",
    "np.vstack([x, grid]) # vertically stack the arrays\n",
    "\n",
    "y = np.array([[99], [99]])\n",
    "np.hstack([grid, y]) # horizontally stack the arrays\n",
    "\n",
    "# for higher dimension, \"np.dstack\" will stack along third axis"
   ]
  },
  {
   "cell_type": "code",
   "execution_count": 1,
   "metadata": {},
   "outputs": [
    {
     "ename": "NameError",
     "evalue": "name 'np' is not defined",
     "output_type": "error",
     "traceback": [
      "\u001b[0;31m---------------------------------------------------------------------------\u001b[0m",
      "\u001b[0;31mNameError\u001b[0m                                 Traceback (most recent call last)",
      "Cell \u001b[0;32mIn[1], line 4\u001b[0m\n\u001b[1;32m      1\u001b[0m \u001b[39m# can split arrays with \"np.split, np.hsplit, np.vsplit\"\u001b[39;00m\n\u001b[1;32m      2\u001b[0m \u001b[39m# pass a list of indicies giving the split points\u001b[39;00m\n\u001b[1;32m      3\u001b[0m x \u001b[39m=\u001b[39m [\u001b[39m1\u001b[39m, \u001b[39m2\u001b[39m, \u001b[39m3\u001b[39m, \u001b[39m4\u001b[39m, \u001b[39m5\u001b[39m, \u001b[39m6\u001b[39m, \u001b[39m7\u001b[39m, \u001b[39m8\u001b[39m]\n\u001b[0;32m----> 4\u001b[0m x1, x2, x3 \u001b[39m=\u001b[39m np\u001b[39m.\u001b[39msplit(x, [\u001b[39m3\u001b[39m, \u001b[39m5\u001b[39m])\n\u001b[1;32m      6\u001b[0m \u001b[39m# n split points leads to n + 1 subarrays\u001b[39;00m\n\u001b[1;32m      8\u001b[0m grid \u001b[39m=\u001b[39m np\u001b[39m.\u001b[39marange(\u001b[39m16\u001b[39m)\u001b[39m.\u001b[39mreshape(\u001b[39m4\u001b[39m, \u001b[39m4\u001b[39m)\n",
      "\u001b[0;31mNameError\u001b[0m: name 'np' is not defined"
     ]
    }
   ],
   "source": [
    "# can split arrays with \"np.split, np.hsplit, np.vsplit\"\n",
    "# pass a list of indicies giving the split points\n",
    "x = [1, 2, 3, 4, 5, 6, 7, 8]\n",
    "x1, x2, x3 = np.split(x, [3, 5])\n",
    "\n",
    "# n split points leads to n + 1 subarrays\n",
    "\n",
    "grid = np.arange(16).reshape(4, 4)\n",
    "upper, lower = np.vsplit(grid, [2]) # split in half vertically\n",
    "left, right = np.hsplit(grid, [2]) # split in half horizontally"
   ]
  },
  {
   "cell_type": "code",
   "execution_count": 14,
   "metadata": {},
   "outputs": [
    {
     "data": {
      "text/plain": [
       "array([0, 1, 2, 3, 4, 5, 6, 7, 8, 9, 0, 1, 2, 3, 4, 5, 6, 7, 8, 9])"
      ]
     },
     "execution_count": 14,
     "metadata": {},
     "output_type": "execute_result"
    }
   ],
   "source": [
    "# experiementing\n",
    "rng = np.random.default_rng(seed=100) # make an rng\n",
    "a = rng.integers(10, size = 10) # make 10 random integers\n",
    "\n",
    "# can index the normal way\n",
    "a[1]\n",
    "a[3:5]\n",
    "a[-1]\n",
    "\n",
    "b = a[3:5] # this will make a view not a copy\n",
    "b[0] = 1000 # this will modify both a and b\n",
    "c = a[3:5].copy() # have to call copy if we want a copy\n",
    "c[0] = -1 # this will not modify a or b \n",
    "\n",
    "# can reshape matricies\n",
    "x = np.arange(1,10).reshape((3, 3))\n",
    "\n",
    "# can concatenate arrays togeter\n",
    "x = np.arange(10)\n",
    "y = np.arange(10)\n",
    "np.concatenate([x, y])\n",
    "\n",
    "# the main takeaways of this chapter is just simple numpy array manipulation\n",
    "# we see that we can index it like a normal python array and that we must do deep copies\n",
    "# otherwise we just get a view that references the original. We can also reshape matricies \n",
    "# into different formats/dimensions. Overall basic numpy array manipulation"
   ]
  }
 ],
 "metadata": {
  "kernelspec": {
   "display_name": "Python 3",
   "language": "python",
   "name": "python3"
  },
  "language_info": {
   "codemirror_mode": {
    "name": "ipython",
    "version": 3
   },
   "file_extension": ".py",
   "mimetype": "text/x-python",
   "name": "python",
   "nbconvert_exporter": "python",
   "pygments_lexer": "ipython3",
   "version": "3.10.7"
  },
  "orig_nbformat": 4
 },
 "nbformat": 4,
 "nbformat_minor": 2
}
