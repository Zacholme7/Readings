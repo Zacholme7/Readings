{
 "cells": [
  {
   "cell_type": "code",
   "execution_count": 1,
   "metadata": {},
   "outputs": [],
   "source": [
    "#Fancy/Vectorized Indexing\n",
    "# pass arrayos of indidices in place of single scalars\n",
    "import numpy as np"
   ]
  },
  {
   "cell_type": "code",
   "execution_count": 12,
   "metadata": {},
   "outputs": [
    {
     "data": {
      "text/plain": [
       "array([[ 2,  5, 11]])"
      ]
     },
     "execution_count": 12,
     "metadata": {},
     "output_type": "execute_result"
    }
   ],
   "source": [
    "# passing an array of indicies to access multiple array elements at once\n",
    "rng = np.random.default_rng(seed = 1701)\n",
    "x = rng.integers(100, size = 10)\n",
    "\n",
    "# to access three elements, we could\n",
    "[x[3], x[7], x[2]]\n",
    "\n",
    "# can also pass a list of indicies\n",
    "ind = [3, 7, 4]\n",
    "x[ind]\n",
    "\n",
    "# shape reflects the broadcasted shape of the index array rather than the shape of the array being indexed\n",
    "ind = np.array([[3, 7], [4, 5]])\n",
    "x[ind]\n",
    "\n",
    "# also works in multiple dimensions\n",
    "# follows the broadcasting rules\n",
    "# 0,2   1,1   2,3\n",
    "X = np.arange(12).reshape((3, 4))\n",
    "row = np.array([0, 1, 2]),\n",
    "col = np.array([2, 1, 3])\n",
    "X[row, col]\n",
    "\n",
    "# fancy indexing can be combined with other schemes\n",
    "X[2, [2, 0, 1]]\n",
    "X[1:, [2, 0, 1]]"
   ]
  },
  {
   "cell_type": "code",
   "execution_count": 18,
   "metadata": {},
   "outputs": [
    {
     "data": {
      "text/plain": [
       "array([6., 0., 0., 0., 0., 0., 0., 0., 0., 0.])"
      ]
     },
     "execution_count": 18,
     "metadata": {},
     "output_type": "execute_result"
    }
   ],
   "source": [
    "# can use fancy indexing to modify values\n",
    "x = np.arange(10)\n",
    "i = np.array([2, 1, 8, 4])\n",
    "x[i] = 99\n",
    "x\n",
    "x[i] -= 10\n",
    "\n",
    "# can cause unexpected results\n",
    "x = np.zeros(10)\n",
    "x[[0, 0]] = [4, 6]\n",
    "x\n"
   ]
  }
 ],
 "metadata": {
  "kernelspec": {
   "display_name": "Python 3",
   "language": "python",
   "name": "python3"
  },
  "language_info": {
   "codemirror_mode": {
    "name": "ipython",
    "version": 3
   },
   "file_extension": ".py",
   "mimetype": "text/x-python",
   "name": "python",
   "nbconvert_exporter": "python",
   "pygments_lexer": "ipython3",
   "version": "3.10.7"
  },
  "orig_nbformat": 4
 },
 "nbformat": 4,
 "nbformat_minor": 2
}
