{
 "cells": [
  {
   "cell_type": "code",
   "execution_count": 1,
   "metadata": {},
   "outputs": [],
   "source": [
    "# the key to making numpy fast is to use vectorized operations\n",
    "# implemented through universal fucntions\n",
    "# slowness of python presents itself in situations where small operations are being represed"
   ]
  },
  {
   "cell_type": "code",
   "execution_count": 5,
   "metadata": {},
   "outputs": [
    {
     "name": "stdout",
     "output_type": "stream",
     "text": [
      "958 ms ± 8.07 ms per loop (mean ± std. dev. of 7 runs, 1 loop each)\n"
     ]
    }
   ],
   "source": [
    "import numpy as np\n",
    "rng = np.random.default_rng(seed=1701)\n",
    "\n",
    "def compute_reciprocals(values):\n",
    "    output = np.empty(len(values))\n",
    "    for i in range(len(values)):\n",
    "        output[i] = 1.0 / values[i]\n",
    "    return output\n",
    "\n",
    "# slow!!\n",
    "big_array = rng.integers(1, 100, size=1000000)\n",
    "%timeit compute_reciprocals(big_array)"
   ]
  },
  {
   "cell_type": "code",
   "execution_count": 11,
   "metadata": {},
   "outputs": [
    {
     "name": "stdout",
     "output_type": "stream",
     "text": [
      "498 µs ± 10.3 µs per loop (mean ± std. dev. of 7 runs, 1,000 loops each)\n"
     ]
    },
    {
     "data": {
      "text/plain": [
       "array([[  1,   2,   4],\n",
       "       [  8,  16,  32],\n",
       "       [ 64, 128, 256]])"
      ]
     },
     "execution_count": 11,
     "metadata": {},
     "output_type": "execute_result"
    }
   ],
   "source": [
    "# vectorized aproach push loop into the compiled layer that underlies numpy\n",
    "# just do operation directly on array\n",
    "%timeit (1.0 / big_array)\n",
    "\n",
    "# vectorized operations are implemented via ufuncs\n",
    "# main purpose is to quickly execute repreated operations on values in numpy arrays\n",
    "# extremely flexible\n",
    "np.arange(5) / np.arange(1, 6)\n",
    "\n",
    "# can work in multiple dimensions\n",
    "x = np.arange(9).reshape((3, 3))\n",
    "2 ** x"
   ]
  },
  {
   "cell_type": "code",
   "execution_count": 1,
   "metadata": {},
   "outputs": [
    {
     "ename": "NameError",
     "evalue": "name 'np' is not defined",
     "output_type": "error",
     "traceback": [
      "\u001b[0;31m---------------------------------------------------------------------------\u001b[0m",
      "\u001b[0;31mNameError\u001b[0m                                 Traceback (most recent call last)",
      "Cell \u001b[0;32mIn[1], line 4\u001b[0m\n\u001b[1;32m      1\u001b[0m \u001b[39m# ufuncs exist in two types\u001b[39;00m\n\u001b[1;32m      2\u001b[0m \u001b[39m# unary ufuns: operate on a single input\u001b[39;00m\n\u001b[1;32m      3\u001b[0m \u001b[39m# binary ufuncs: operate on two inputs\u001b[39;00m\n\u001b[0;32m----> 4\u001b[0m x \u001b[39m=\u001b[39m np\u001b[39m.\u001b[39marange(\u001b[39m4\u001b[39m)\n\u001b[1;32m      6\u001b[0m \u001b[39m# basic operations\u001b[39;00m\n\u001b[1;32m      7\u001b[0m \u001b[39mprint\u001b[39m(\u001b[39m\"\u001b[39m\u001b[39mx\u001b[39m\u001b[39m\"\u001b[39m, x)\n",
      "\u001b[0;31mNameError\u001b[0m: name 'np' is not defined"
     ]
    }
   ],
   "source": [
    "# ufuncs exist in two types\n",
    "# unary ufuns: operate on a single input\n",
    "# binary ufuncs: operate on two inputs\n",
    "x = np.arange(4)\n",
    "\n",
    "# basic operations\n",
    "print(\"x\", x)\n",
    "print(\"x + 5\", x + 5)\n",
    "print(\"x - 5 \", x - 5 )\n",
    "print(\"x * 5\", x * 5)\n",
    "print(\"x / 5\", x / 5)\n",
    "print(\"x // 5\", x // 5)\n",
    "print(\"-x \", -x)\n",
    "print(\"x ** 2 = \", x ** 2)\n",
    "print(\"x % 2 = \", x % 2)\n",
    "\n",
    "# can be strung togethersed for up to 5% \n",
    "\n",
    "# understands absolute value\n",
    "# underlying function is np.absolute with alias np.abs\n",
    "x = np.array([-2, -1, 0, 1, 2])\n",
    "abs(x)\n",
    "np.absolute(x)\n",
    "np.abs(x)\n",
    "\n",
    "# also has trigonometric functions\n",
    "x = [-1, 0, 1]\n",
    "theta = np.linspace(0, np.pi, 3)\n",
    "print(\"theta      = \", theta)\n",
    "print(\"sin(theta) = \", np.sin(theta))\n",
    "print(\"cos(theta) = \", np.cos(theta))\n",
    "print(\"tan(theta) = \", np.tan(theta))\n",
    "print(\"arcsin(x)  = \", np.arcsin(x))\n",
    "print(\"arccos(x)  = \", np.arccos(x))\n",
    "print(\"arctan(x)  = \", np.arctan(x))\n",
    "\n",
    "# exponentials and logarithms\n",
    "x = [1, 2, 3]\n",
    "print(\"e^x =\", np.exp(x))\n",
    "print(\"2^x =\", np.exp2(x))\n",
    "print(\"3^x =\", np.power(3., x))\n",
    "print(\"ln(x)    =\", np.log(x))\n",
    "print(\"log2(x)  =\", np.log2(x))\n",
    "print(\"log10(x) =\", np.log10(x))\n",
    "\n",
    "# can compute aggregations\n",
    "x = np.arange(1, 6)\n",
    "np.add.reduce(x)\n",
    "np.multiply.reduce(x)\n",
    "np.add.accumulate(x)"
   ]
  },
  {
   "cell_type": "code",
   "execution_count": null,
   "metadata": {},
   "outputs": [],
   "source": [
    "# takeaways\n",
    "# there is not that much in this chapter, the main takeaway is that we can just apply\n",
    "# vectorized operations to numpy arrays "
   ]
  }
 ],
 "metadata": {
  "kernelspec": {
   "display_name": "Python 3",
   "language": "python",
   "name": "python3"
  },
  "language_info": {
   "codemirror_mode": {
    "name": "ipython",
    "version": 3
   },
   "file_extension": ".py",
   "mimetype": "text/x-python",
   "name": "python",
   "nbconvert_exporter": "python",
   "pygments_lexer": "ipython3",
   "version": "3.10.7"
  },
  "orig_nbformat": 4
 },
 "nbformat": 4,
 "nbformat_minor": 2
}
