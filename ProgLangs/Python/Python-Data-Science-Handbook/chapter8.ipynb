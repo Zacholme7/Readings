{
 "cells": [
  {
   "cell_type": "code",
   "execution_count": 1,
   "metadata": {},
   "outputs": [],
   "source": [
    "#broadcasting: a set of rules which lets you apply binary operations between arrays of different sizes and shapes\n",
    "import numpy as np\n"
   ]
  },
  {
   "cell_type": "code",
   "execution_count": 3,
   "metadata": {},
   "outputs": [
    {
     "data": {
      "text/plain": [
       "array([5, 6, 7])"
      ]
     },
     "execution_count": 3,
     "metadata": {},
     "output_type": "execute_result"
    }
   ],
   "source": [
    "# for arrays of the same size, binary operations performed on an element by element basis\n",
    "a = np.array([0, 1, 2])\n",
    "b = np.array([5, 5, 5])\n",
    "a + b"
   ]
  },
  {
   "cell_type": "code",
   "execution_count": 4,
   "metadata": {},
   "outputs": [
    {
     "data": {
      "text/plain": [
       "array([5, 6, 7])"
      ]
     },
     "execution_count": 4,
     "metadata": {},
     "output_type": "execute_result"
    }
   ],
   "source": [
    "# broadcasting allows for different sizes\n",
    "a + 5"
   ]
  },
  {
   "cell_type": "code",
   "execution_count": 6,
   "metadata": {},
   "outputs": [
    {
     "data": {
      "text/plain": [
       "array([[1., 2., 3.],\n",
       "       [1., 2., 3.],\n",
       "       [1., 2., 3.]])"
      ]
     },
     "execution_count": 6,
     "metadata": {},
     "output_type": "execute_result"
    }
   ],
   "source": [
    "# a is stretched/broadcasted across m\n",
    "# matches the shape of M\n",
    "m = np.ones((3, 3))\n",
    "m + a"
   ]
  },
  {
   "cell_type": "code",
   "execution_count": 7,
   "metadata": {},
   "outputs": [
    {
     "data": {
      "text/plain": [
       "array([[0],\n",
       "       [1],\n",
       "       [2]])"
      ]
     },
     "execution_count": 7,
     "metadata": {},
     "output_type": "execute_result"
    }
   ],
   "source": [
    "# stretch both a and b to a common shape\n",
    "a = np.arange(3)\n",
    "b = np.arange(3)[:, np.newaxis]\n",
    "a * b"
   ]
  },
  {
   "cell_type": "code",
   "execution_count": 8,
   "metadata": {},
   "outputs": [],
   "source": [
    "# rules of broadcasting\n",
    "# 1) if the two arrays differ in their number of dimenions, the shape of the one with the fewer\n",
    "# dimensions is padded with ones on its leading left side\n",
    "# 2) if the shape of the two ararys does not match in any dimension, the array with shape equal to 1 in that\n",
    "# dimension is stretched to match the other shape\n",
    "# 3) if in any dimension the sizes disagree and neither is equal to 1, an error is raised"
   ]
  },
  {
   "cell_type": "code",
   "execution_count": 13,
   "metadata": {},
   "outputs": [
    {
     "data": {
      "text/plain": [
       "array([[1., 2., 3.],\n",
       "       [1., 2., 3.]])"
      ]
     },
     "execution_count": 13,
     "metadata": {},
     "output_type": "execute_result"
    }
   ],
   "source": [
    "# add a 2D and 1D array\n",
    "m = np.ones((2, 3)) # shape is (2, 3)\n",
    "a = np.arange(3) # shape is (3,)\n",
    "\n",
    "# by rule 1, a has fewer dimensions so we pad it on the left with ones\n",
    "# a.shape becomes (1, 3)\n",
    "# by rule 2, the first dimension disagrees so we stretch it\n",
    "# a.shape becomes (2, 3)\n",
    "# the shapes now match and the final shape will be (2, 3)"
   ]
  },
  {
   "cell_type": "code",
   "execution_count": 16,
   "metadata": {},
   "outputs": [
    {
     "data": {
      "text/plain": [
       "array([[0, 1, 2],\n",
       "       [1, 2, 3],\n",
       "       [2, 3, 4]])"
      ]
     },
     "execution_count": 16,
     "metadata": {},
     "output_type": "execute_result"
    }
   ],
   "source": [
    "# example where both need to be broadcast\n",
    "a = np.arange(3).reshape((3, 1)) # shape is (3, 1)\n",
    "b = np.arange(3) # shape is (3, )\n",
    "\n",
    "# by rule one, we must pad b\n",
    "# b now becomes (1, 3)\n",
    "# by rule 2, upgrade each of the ones\n",
    "# b now becomes (3, 3) and a becomes (3, 3)\n",
    "# the shapes are now compatible\n",
    "a + b"
   ]
  },
  {
   "cell_type": "code",
   "execution_count": 17,
   "metadata": {},
   "outputs": [],
   "source": [
    "# an example where they are not compatible\n",
    "m = np.ones((3, 2)) # shape is (3, 2)\n",
    "a = np.arange(3) # shape is (3,)\n",
    "\n",
    "# rule 1 is that we must pad a\n",
    "# a now becomes (1, 3)\n",
    "# rule 2 is that we have to stretch\n",
    "# a now becomes (3, 3)\n",
    "# the final shapes do not match, so these are incompatible"
   ]
  },
  {
   "cell_type": "code",
   "execution_count": 18,
   "metadata": {},
   "outputs": [],
   "source": [
    "# broadcasting in practice\n",
    "\n",
    "# centering an array\n",
    "rng = np.random.default_rng(seed=1701)\n",
    "X = rng.random((10, 3))\n",
    "Xmean = X.mean(0)\n",
    "X_centered = X - Xmean\n"
   ]
  }
 ],
 "metadata": {
  "kernelspec": {
   "display_name": "Python 3",
   "language": "python",
   "name": "python3"
  },
  "language_info": {
   "codemirror_mode": {
    "name": "ipython",
    "version": 3
   },
   "file_extension": ".py",
   "mimetype": "text/x-python",
   "name": "python",
   "nbconvert_exporter": "python",
   "pygments_lexer": "ipython3",
   "version": "3.10.7"
  },
  "orig_nbformat": 4
 },
 "nbformat": 4,
 "nbformat_minor": 2
}
