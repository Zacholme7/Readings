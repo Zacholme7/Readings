{
 "cells": [
  {
   "cell_type": "code",
   "execution_count": 1,
   "metadata": {},
   "outputs": [],
   "source": [
    "# standard python implementation is written in C\n",
    "# each object is a pointer to a structure\n",
    "# for example, the underlying structure for a long\n",
    "# struct _longobject {\n",
    "#   long ob_refcnt;        -> a reference count that helps python handle memory allocation and deallocation\n",
    "#   PyTypeObject *ob_type; -> encodes the type of the variable\n",
    "#   size_t ob_size;        -> specifies the size of the following data member\n",
    "#   long ob_digit[1];      -> contains the actual interger value that we expect the python variable to represent\n",
    "#};\n",
    "# the way the object is stored leads to some additional overhead\n",
    "# the difference?\n",
    "#   a C integer is essentially a label for a position in memory whose bytes encode the integer value\n",
    "#   a python integer is a pointer to a position in memory containing all the python object information "
   ]
  },
  {
   "cell_type": "code",
   "execution_count": 5,
   "metadata": {},
   "outputs": [],
   "source": [
    "L = list(range(10)) # a python list of the same object is more efficient, numpy style array\n",
    "l2 = [True, \"2\", 0, 4.0] # a python list of mulitple objects is more dynamic but requires much more overhead and storage"
   ]
  },
  {
   "cell_type": "code",
   "execution_count": 4,
   "metadata": {},
   "outputs": [
    {
     "data": {
      "text/plain": [
       "array('i', [0, 1, 2, 3, 4, 5, 6, 7, 8, 9])"
      ]
     },
     "execution_count": 4,
     "metadata": {},
     "output_type": "execute_result"
    }
   ],
   "source": [
    "# can use a fixed type data buffer from teh array module to create dense arrays of a uniform type\n",
    "import array\n",
    "L = list(range(10))\n",
    "A = array.array('i', L); # i is a type code indicating the contents are integers\n",
    "A"
   ]
  },
  {
   "cell_type": "code",
   "execution_count": 9,
   "metadata": {},
   "outputs": [
    {
     "name": "stdout",
     "output_type": "stream",
     "text": [
      "[1 2 3]\n",
      "[3.14 4.   2.  ]\n",
      "[1. 2. 3.]\n",
      "[[2 3 4]\n",
      " [4 5 6]\n",
      " [6 7 8]]\n"
     ]
    }
   ],
   "source": [
    "#numpy adds efficiennt operations onto array based data\n",
    "import numpy as np\n",
    "# integer array\n",
    "a = np.array([1, 2, 3])\n",
    "print(a)\n",
    "\n",
    "# numpy arrays can only contain data of the same type\n",
    "# if they do not match, then numpy will upcast them \n",
    "b = np.array([3.14, 4, 2])\n",
    "print(b)\n",
    "\n",
    "# can explicitly set the type using the \"dtype\" keyword\n",
    "c = np.array([1, 2, 3], dtype=np.float32)\n",
    "print(c)\n",
    "\n",
    "# numpy arrays can be multi-dimensional\n",
    "d = np.array([range(i, i+3) for i in [2, 4, 6]])\n",
    "print(d)"
   ]
  },
  {
   "cell_type": "code",
   "execution_count": 14,
   "metadata": {},
   "outputs": [
    {
     "name": "stdout",
     "output_type": "stream",
     "text": [
      "[0 0 0 0 0 0 0 0 0 0]\n",
      "[[1. 1. 1. 1. 1.]\n",
      " [1. 1. 1. 1. 1.]\n",
      " [1. 1. 1. 1. 1.]]\n",
      "[[3.14 3.14 3.14 3.14 3.14]\n",
      " [3.14 3.14 3.14 3.14 3.14]\n",
      " [3.14 3.14 3.14 3.14 3.14]]\n",
      "[ 0  2  4  6  8 10 12 14 16 18]\n",
      "[0.   0.25 0.5  0.75 1.  ]\n",
      "[[0.69235603 0.77216514 0.98966568]\n",
      " [0.32947915 0.94094114 0.85733684]\n",
      " [0.18424776 0.49611096 0.73720758]]\n",
      "[[ 0.18481896  1.10577518 -1.12495307]\n",
      " [-0.8798281  -0.66744599 -0.03441431]\n",
      " [ 0.68934705  0.16117577  0.81413327]]\n",
      "[[5 7 4]\n",
      " [1 6 3]\n",
      " [1 8 6]]\n",
      "[[1. 0. 0.]\n",
      " [0. 1. 0.]\n",
      " [0. 0. 1.]]\n",
      "[1. 1. 1.]\n"
     ]
    }
   ],
   "source": [
    "# for larger arrays, it is more efficinet to creat them from scratch using numpy routines\n",
    "\n",
    "# create 1-D list of 10 zeros\n",
    "a = np.zeros(10, dtype=int)\n",
    "print(a)\n",
    "\n",
    "# create 3x5 flaot point array with ones\n",
    "b = np.ones((3, 5), dtype=float)\n",
    "print(b)\n",
    "\n",
    "# create 3x5 array fillwed with 3.14\n",
    "c = np.full((3, 5), 3.14)\n",
    "print(c)\n",
    "\n",
    "# create array filled with linear sequence\n",
    "# starting at 0 and ending at 20 going by 2's\n",
    "d = np.arange(0, 20, 2)\n",
    "print(d)\n",
    "\n",
    "# create array of 5 values evenly spaved between 0 and 1\n",
    "e = np.linspace(0, 1, 5)\n",
    "print(e)\n",
    "\n",
    "# create 3x3 array of uniformly distributed random values between 0 and 1\n",
    "f = np.random.random((3, 3))\n",
    "print(f)\n",
    "\n",
    "# create 3x3 array of normally distributed random vals with mean 0 and std 1\n",
    "e = np.random.normal(0, 1, (3, 3))\n",
    "print(e)\n",
    "\n",
    "# create 3x3 array of random ints in interval [0, 10)\n",
    "f = np.random.randint(0, 10, (3, 3))\n",
    "print(f)\n",
    "\n",
    "# create 3x3 identity matrix\n",
    "g = np.eye(3)\n",
    "print(g)\n",
    "\n",
    "# create uninitialized array of 3 ints\n",
    "# vals will be whatever was at the mem location\n",
    "h = np.empty(3)\n",
    "print(h)"
   ]
  },
  {
   "cell_type": "code",
   "execution_count": 3,
   "metadata": {},
   "outputs": [
    {
     "data": {
      "text/plain": [
       "'\\nbool_ Boolean (True or False) stored as a byte\\nint_ Default integer type (same as C long ; normally either int64 or int32 )\\nintc Identical to C int (normally int32 or int64 )\\nintp Integer used for indexing (same as C ssize_t ; normally either int32 or int64 )\\nint8 Byte (–128 to 127)\\nint16 Integer (–32768 to 32767)\\nint32 Integer (–2147483648 to 2147483647)\\nint64 Integer (–9223372036854775808 to 9223372036854775807)\\nuint8 Unsigned integer (0 to 255)\\nuint16 Unsigned integer (0 to 65535)\\nuint32 Unsigned integer (0 to 4294967295)\\nuint64 Unsigned integer (0 to 18446744073709551615)\\nfloat_ Shorthand for float64\\nfloat16 Half-precision float: sign bit, 5 bits exponent, 10 bits mantissa\\nfloat32 Single-precision float: sign bit, 8 bits exponent, 23 bits mantissa\\nfloat64 Double-precision float: sign bit, 11 bits exponent, 52 bits mantissa\\ncomplex_ Shorthand for complex128\\ncomplex64 Complex number, represented by two 32-bit floats\\ncomplex128 Complex number, represented by two 64-bit floats\\n'"
      ]
     },
     "execution_count": 3,
     "metadata": {},
     "output_type": "execute_result"
    }
   ],
   "source": [
    "\n",
    "# all the data types in numpy, can be specified in a string \n",
    "'''\n",
    "bool_ Boolean (True or False) stored as a byte\n",
    "int_ Default integer type (same as C long ; normally either int64 or int32 )\n",
    "intc Identical to C int (normally int32 or int64 )\n",
    "intp Integer used for indexing (same as C ssize_t ; normally either int32 or int64 )\n",
    "int8 Byte (–128 to 127)\n",
    "int16 Integer (–32768 to 32767)\n",
    "int32 Integer (–2147483648 to 2147483647)\n",
    "int64 Integer (–9223372036854775808 to 9223372036854775807)\n",
    "uint8 Unsigned integer (0 to 255)\n",
    "uint16 Unsigned integer (0 to 65535)\n",
    "uint32 Unsigned integer (0 to 4294967295)\n",
    "uint64 Unsigned integer (0 to 18446744073709551615)\n",
    "float_ Shorthand for float64\n",
    "float16 Half-precision float: sign bit, 5 bits exponent, 10 bits mantissa\n",
    "float32 Single-precision float: sign bit, 8 bits exponent, 23 bits mantissa\n",
    "float64 Double-precision float: sign bit, 11 bits exponent, 52 bits mantissa\n",
    "complex_ Shorthand for complex128\n",
    "complex64 Complex number, represented by two 32-bit floats\n",
    "complex128 Complex number, represented by two 64-bit floats\n",
    "'''"
   ]
  },
  {
   "cell_type": "code",
   "execution_count": 16,
   "metadata": {},
   "outputs": [
    {
     "data": {
      "text/plain": [
       "array([3, 5, 7, 9])"
      ]
     },
     "execution_count": 16,
     "metadata": {},
     "output_type": "execute_result"
    }
   ],
   "source": [
    "# experimenting\n",
    "import numpy as np\n",
    "a = np.array([1, 2, 3]) # just create a basic array\n",
    "b = np.ones((3, 2)) # create a 3x2 matrix of ones\n",
    "c = np.zeros((5, 5)) # create a 5x5 of zeros\n",
    "d = np.zeros(10) # just create a 1d of 10 zeros\n",
    "e = np.random.randint(0, 10, (3, 3)) # create a random matrix \n",
    "f = np.arange(3, 10, 2) # 3..10 with steps of 2\n",
    "\n",
    "# not too much in this chapter, i think the biggest takeaway is just how to make the numpy arrays\n",
    "# we can make arrays filled with ones, zeros, random numbers, or in a range upon many others"
   ]
  }
 ],
 "metadata": {
  "kernelspec": {
   "display_name": "Python 3",
   "language": "python",
   "name": "python3"
  },
  "language_info": {
   "codemirror_mode": {
    "name": "ipython",
    "version": 3
   },
   "file_extension": ".py",
   "mimetype": "text/x-python",
   "name": "python",
   "nbconvert_exporter": "python",
   "pygments_lexer": "ipython3",
   "version": "3.10.7"
  },
  "orig_nbformat": 4
 },
 "nbformat": 4,
 "nbformat_minor": 2
}
