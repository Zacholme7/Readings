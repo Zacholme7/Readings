{
 "cells": [
  {
   "cell_type": "code",
   "execution_count": 4,
   "metadata": {},
   "outputs": [],
   "source": [
    "# Chapter 9: Comparisons, Masks, Boolean Logic\n",
    "# can use boolean masks to examine and manipulate values in numpy arrays\n",
    "# masking used when you want to extract, modify, count or manipulate values based on some criterion\n",
    "import numpy as np"
   ]
  },
  {
   "cell_type": "code",
   "execution_count": 7,
   "metadata": {},
   "outputs": [
    {
     "data": {
      "text/plain": [
       "array([False,  True, False, False, False])"
      ]
     },
     "execution_count": 7,
     "metadata": {},
     "output_type": "execute_result"
    }
   ],
   "source": [
    "# numpy implements comparison operators and the result is an array with a boolean data type\n",
    "x = np.array([1, 2, 3, 4, 5])\n",
    "\n",
    "# will all return an array of boolean values for each element in the operated list\n",
    "x < 3    # np.less()\n",
    "x > 3    # n.greater()\n",
    "x <= 3   # np.less_equal()\n",
    "x >= 3   # np.greater_equal()\n",
    "x != 3   # np.not_equal()\n",
    "x == 3   # np.equal()\n",
    "\n",
    "# can do element wise comparison of two arrays\n",
    "(x * 2) == (x ** 2)"
   ]
  },
  {
   "cell_type": "code",
   "execution_count": 9,
   "metadata": {},
   "outputs": [
    {
     "data": {
      "text/plain": [
       "array([[False,  True,  True,  True],\n",
       "       [False, False,  True,  True],\n",
       "       [ True, False,  True,  True]])"
      ]
     },
     "execution_count": 9,
     "metadata": {},
     "output_type": "execute_result"
    }
   ],
   "source": [
    "# work on arrays of any size and shape\n",
    "rng = np.random.default_rng(seed = 1701)\n",
    "x = rng.integers(10, size = (3, 4))\n",
    "\n",
    "x < 6"
   ]
  },
  {
   "cell_type": "code",
   "execution_count": 10,
   "metadata": {},
   "outputs": [
    {
     "data": {
      "text/plain": [
       "array([False, False,  True])"
      ]
     },
     "execution_count": 10,
     "metadata": {},
     "output_type": "execute_result"
    }
   ],
   "source": [
    "# host of useful operations with boolean array\n",
    "np.count_nonzero(x < 6) # count how many values are less than 6\n",
    "np.sum(x < 6) # another way to count how many values are less than 6\n",
    "np.sum(x < 6, axis = 1) # how many values less than 6 in each row\n",
    "np.any(x > 8) # are there any values greater than 8\n",
    "np.any(x < 0) # are there any values less than 0\n",
    "np.all(x < 10) # are all the values less than 10\n",
    "np.all(x == 6) # are all the values equal to 6\n",
    "\n",
    "# np.all and np.any can be used along particular axes as well\n",
    "np.all(x < 8, axis = 1) # are all values in each row less than 8"
   ]
  },
  {
   "cell_type": "code",
   "execution_count": 11,
   "metadata": {},
   "outputs": [],
   "source": [
    "# can also use bitwise operators with boolean arrays \n",
    "# &, |, ^, ~"
   ]
  },
  {
   "cell_type": "code",
   "execution_count": 14,
   "metadata": {},
   "outputs": [
    {
     "data": {
      "text/plain": [
       "array([4, 0, 3, 3, 1, 3, 4, 0])"
      ]
     },
     "execution_count": 14,
     "metadata": {},
     "output_type": "execute_result"
    }
   ],
   "source": [
    "# can use boolean arrays as masks\n",
    "x[x<5] # make a boolean array with x < 5 and then use that as a mask to get all values less than 5"
   ]
  },
  {
   "cell_type": "code",
   "execution_count": null,
   "metadata": {},
   "outputs": [],
   "source": [
    "# keyword and/or vs operator &/|\n",
    "# and and or operate on the object as a whole, treat object as single boolean entity\n",
    "# all nonzero integers will evaluate as true\n",
    "bool(42), bool(0)\n",
    "bool(42 and 0)\n",
    "bool(42 or 0)\n",
    "\n",
    "# & and | operate on the elements within an object\n",
    "# operates on the bitwise representation applying and and or to individual bits\n",
    "bin(42)\n",
    "bin(59)\n",
    "bin(42 & 59)\n",
    "bin(42 | 59)\n",
    "\n",
    "# in numpy when you have a boolean array, thing of it as a string of bits where 1 = True and 0 = False\n",
    "# and & and | will operate similarily to the preceeding example\n",
    "A = np.array([1, 0, 1, 0, 1, 0], dtype=bool)\n",
    "B = np.array([1, 1, 1, 0, 1, 1], dtype=bool)\n",
    "A | B\n",
    "\n",
    "x = np.arange(10)\n",
    "(x > 4) & (x < 8) # dont use and"
   ]
  }
 ],
 "metadata": {
  "kernelspec": {
   "display_name": "Python 3",
   "language": "python",
   "name": "python3"
  },
  "language_info": {
   "codemirror_mode": {
    "name": "ipython",
    "version": 3
   },
   "file_extension": ".py",
   "mimetype": "text/x-python",
   "name": "python",
   "nbconvert_exporter": "python",
   "pygments_lexer": "ipython3",
   "version": "3.10.7"
  },
  "orig_nbformat": 4
 },
 "nbformat": 4,
 "nbformat_minor": 2
}
