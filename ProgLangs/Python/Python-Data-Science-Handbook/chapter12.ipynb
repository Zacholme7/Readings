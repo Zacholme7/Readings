{
 "cells": [
  {
   "cell_type": "code",
   "execution_count": 2,
   "metadata": {},
   "outputs": [],
   "source": [
    "# structure data: structured arrays\n",
    "# structuerd arrays and record arrays provide efficient storage for compound heterogeneous data\n",
    "import numpy as np"
   ]
  },
  {
   "cell_type": "code",
   "execution_count": 7,
   "metadata": {},
   "outputs": [
    {
     "data": {
      "text/plain": [
       "array([('Alice', 25, 55. ), ('Bob', 45, 85.5), ('Cathy', 37, 68. ),\n",
       "       ('Doug', 19, 61.5)],\n",
       "      dtype=[('name', '<U10'), ('age', '<i4'), ('weight', '<f8')])"
      ]
     },
     "execution_count": 7,
     "metadata": {},
     "output_type": "execute_result"
    }
   ],
   "source": [
    "name = [\"Alice\", \"Bob\", \"Cathy\", \"Doug\"]\n",
    "age = [25, 45, 37, 19]\n",
    "weight = [55.0, 85.5, 68.0, 61.5]\n",
    "\n",
    "# use a compound data type for structured arrays\n",
    "# name: U10 = unicode string of max len 10\n",
    "# age: i4 = 4 byte integer\n",
    "# weight: f8 = 8 byte float\n",
    "data = np.zeros(4, dtype={\"names\": (\"name\", \"age\", \"weight\"),\n",
    "                          \"formats\":(\"U10\", \"i4\", \"f8\")})\n",
    "data[\"name\"] = name\n",
    "data[\"age\"] = age\n",
    "data[\"weight\"] = weight\n",
    "\n",
    "# can refer to values by index or name\n",
    "data[\"name\"] # get all the names\n",
    "data[0] # get first row of data\n",
    "data[-1][\"name\"] # get the name from the last row\n",
    "\n",
    "# can also use boolean masking\n",
    "data[data[\"age\"] < 30][\"name\"] # get all names where age is under 30\n",
    "\n"
   ]
  },
  {
   "cell_type": "code",
   "execution_count": 8,
   "metadata": {},
   "outputs": [
    {
     "data": {
      "text/plain": [
       "\"\\n'b' Byte                   np.dtype('b')\\n'i' Signed integer         np.dtype('i4') == np.int32\\n'u' Unsigned integer       np.dtype('u1') == np.uint8\\n'f' Floating point         np.dtype('f8') == np.int64\\n'c' Complex floating point np.dtype('c16') == np.complex128\\n'S' , 'a' String           np.dtype('S5')\\n'U' Unicode string         np.dtype('U') == np.str_\\n'V' Raw data (void)        np.dtype('V') == np.void\\n\""
      ]
     },
     "execution_count": 8,
     "metadata": {},
     "output_type": "execute_result"
    }
   ],
   "source": [
    "# numpy data types\n",
    "'''\n",
    "'b' Byte                   np.dtype('b')\n",
    "'i' Signed integer         np.dtype('i4') == np.int32\n",
    "'u' Unsigned integer       np.dtype('u1') == np.uint8\n",
    "'f' Floating point         np.dtype('f8') == np.int64\n",
    "'c' Complex floating point np.dtype('c16') == np.complex128\n",
    "'S' , 'a' String           np.dtype('S5')\n",
    "'U' Unicode string         np.dtype('U') == np.str_\n",
    "'V' Raw data (void)        np.dtype('V') == np.void\n",
    "'''"
   ]
  },
  {
   "cell_type": "code",
   "execution_count": 9,
   "metadata": {},
   "outputs": [
    {
     "data": {
      "text/plain": [
       "array([(0, [[0., 0., 0.], [0., 0., 0.], [0., 0., 0.]])],\n",
       "      dtype=[('id', '<i8'), ('mat', '<f8', (3, 3))])"
      ]
     },
     "execution_count": 9,
     "metadata": {},
     "output_type": "execute_result"
    }
   ],
   "source": [
    "# more advanced compound types\n",
    "# create at ype where each element contains an array of matrix of values\n",
    "tp = np.dtype([(\"id\", \"i8\"), (\"mat\", \"f8\", (3, 3))])\n",
    "X = np.zeros(1, dtype=tp)\n",
    "X"
   ]
  },
  {
   "cell_type": "code",
   "execution_count": 11,
   "metadata": {},
   "outputs": [
    {
     "data": {
      "text/plain": [
       "array([25, 45, 37, 19], dtype=int32)"
      ]
     },
     "execution_count": 11,
     "metadata": {},
     "output_type": "execute_result"
    }
   ],
   "source": [
    "# also have structured arrays\n",
    "# can be accesses as attributes rather than dictionary keys\n",
    "data_rec = data.view(np.recarray)\n",
    "data_rec.age\n",
    "\n",
    "# some extra overehad invovled with accessing these fields though"
   ]
  }
 ],
 "metadata": {
  "kernelspec": {
   "display_name": "Python 3",
   "language": "python",
   "name": "python3"
  },
  "language_info": {
   "codemirror_mode": {
    "name": "ipython",
    "version": 3
   },
   "file_extension": ".py",
   "mimetype": "text/x-python",
   "name": "python",
   "nbconvert_exporter": "python",
   "pygments_lexer": "ipython3",
   "version": "3.10.7"
  },
  "orig_nbformat": 4
 },
 "nbformat": 4,
 "nbformat_minor": 2
}
