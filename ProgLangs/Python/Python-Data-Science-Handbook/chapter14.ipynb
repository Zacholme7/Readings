{
 "cells": [
  {
   "cell_type": "code",
   "execution_count": 1,
   "metadata": {},
   "outputs": [],
   "source": [
    "# data indexing and selection\n",
    "import pandas as pd\n",
    "import numpy as np"
   ]
  },
  {
   "cell_type": "code",
   "execution_count": 13,
   "metadata": {},
   "outputs": [
    {
     "data": {
      "text/plain": [
       "3    b\n",
       "5    c\n",
       "dtype: object"
      ]
     },
     "execution_count": 13,
     "metadata": {},
     "output_type": "execute_result"
    }
   ],
   "source": [
    "# data selection in series\n",
    "data = pd.Series([1, 2, 3, 4], index = [\"a\", \"b\", \"c\", \"c\"])\n",
    "\n",
    "# series like dictionary\n",
    "data[\"a\"]\n",
    "\"a\" in data\n",
    "data.keys()\n",
    "list(data.items())\n",
    "data[\"e\"] = 5\n",
    "\n",
    "# series like one d array\n",
    "data[\"a\":\"c\"] # final index included when using explicit index\n",
    "data[0:2] # final index is excluded when using implicit index\n",
    "data[(data > 1) & (data < 4)]\n",
    "\n",
    "# loc and iloc\n",
    "# if series has explicit integer index, an indexing operation like data[1] will use the xplicit indicies\n",
    "# a slicing operation will use the implicit python style indicies\n",
    "data = pd.Series([\"a\", \"b\", \"c\"], index = [1, 3, 5])\n",
    "data[1] # explicit\n",
    "data[1:3] # implicit\n",
    "# loc attribute allows indexing and slicing that always references the explicit index\n",
    "data.loc[1]\n",
    "data.loc[1:3]\n",
    "# iloc attribute allows indexing and slicing that always references the implicit python style index\n",
    "data.iloc[1]\n",
    "data.iloc[1:3]\n"
   ]
  },
  {
   "cell_type": "code",
   "execution_count": 24,
   "metadata": {},
   "outputs": [],
   "source": [
    "# data selection in data frames\n",
    "area = pd.Series({'California': 423967, 'Texas': 695662,\n",
    "'Florida': 170312, 'New York': 141297,\n",
    "'Pennsylvania': 119280})\n",
    "pop = pd.Series({'California': 39538223, 'Texas': 29145505,\n",
    "'Florida': 21538187, 'New York': 20201249,\n",
    "'Pennsylvania': 13002700})\n",
    "data = pd.DataFrame({'area':area, 'pop':pop})\n",
    "\n",
    "# individual series that makes up cols od DF can be accessed dictionary style\n",
    "data[\"area\"]\n",
    "data.area # only works when name is string and not conflicting\n",
    "\n",
    "# can also use dictionary syntax to modify\n",
    "data[\"density\"] = data[\"pop\"] / data[\"area\"]\n",
    "\n",
    "# can also view DF as 2D array, this way familiar operations can be done\n",
    "data.values\n",
    "data.T # transpose\n",
    "data.values[0] # passing single index accesses a row\n",
    "data[\"area\"] # passing \"index\" gets a column\n",
    "\n",
    "# introduce loc and iloc again\n",
    "# using iloc, we can index underling array as if it were simp;le numpy array (implicit index)\n",
    "data.iloc[:3, :2]\n",
    "# using loc, we can index the underlying data in array like style using explicit names\n",
    "data.loc[:\"Florida\", :\"pop\"]\n",
    "\n",
    "# other standard indexing conventions also work\n",
    "data.loc[data.density > 120, ['pop', 'density']]\n",
    "data.iloc[0, 2] = 90\n"
   ]
  }
 ],
 "metadata": {
  "kernelspec": {
   "display_name": "Python 3",
   "language": "python",
   "name": "python3"
  },
  "language_info": {
   "codemirror_mode": {
    "name": "ipython",
    "version": 3
   },
   "file_extension": ".py",
   "mimetype": "text/x-python",
   "name": "python",
   "nbconvert_exporter": "python",
   "pygments_lexer": "ipython3",
   "version": "3.10.7"
  },
  "orig_nbformat": 4
 },
 "nbformat": 4,
 "nbformat_minor": 2
}
