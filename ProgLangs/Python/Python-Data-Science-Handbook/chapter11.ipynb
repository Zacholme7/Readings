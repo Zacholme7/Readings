{
 "cells": [
  {
   "cell_type": "code",
   "execution_count": 1,
   "metadata": {},
   "outputs": [],
   "source": [
    "# sorting arrays\n",
    "import numpy as np"
   ]
  },
  {
   "cell_type": "code",
   "execution_count": 5,
   "metadata": {},
   "outputs": [
    {
     "data": {
      "text/plain": [
       "['h', 'n', 'o', 'p', 't', 'y']"
      ]
     },
     "execution_count": 5,
     "metadata": {},
     "output_type": "execute_result"
    }
   ],
   "source": [
    "# python has a couple built in sorting function\n",
    "L = [3, 4, 4, 1, 6, 7, 9, 10, 1, 0]\n",
    "\n",
    "# sorted fucntion accepts a list and returns a sorted version of it\n",
    "sorted(L)\n",
    "\n",
    "# sort method will sort in place\n",
    "L.sort()\n",
    "\n",
    "# sorting methods are quite flexible and can handle any iterable object\n",
    "sorted(\"python\")\n",
    "\n",
    "# these sorting methods are nice byt they are less performant than numpy designed ones"
   ]
  },
  {
   "cell_type": "code",
   "execution_count": 10,
   "metadata": {},
   "outputs": [
    {
     "data": {
      "text/plain": [
       "array([[9, 4, 0, 3, 8, 6],\n",
       "       [3, 1, 3, 7, 4, 0],\n",
       "       [2, 3, 0, 0, 6, 9],\n",
       "       [4, 3, 5, 5, 0, 8]])"
      ]
     },
     "execution_count": 10,
     "metadata": {},
     "output_type": "execute_result"
    }
   ],
   "source": [
    "# np.sort is analogous to pythons sorted function\n",
    "# will efficiently return a sorted copy of the array\n",
    "x = np.array([1, 5, 4, 0])\n",
    "np.sort(x)\n",
    "\n",
    "# can sort in place using the sort method\n",
    "x.sort()\n",
    "\n",
    "# argsort will return the indicies of the sorted elements\n",
    "# list of indexes where the smallest to biggest elements are\n",
    "np.argsort(x)\n",
    "\n",
    "# can sort along specific columns or rows using the axis argument\n",
    "rng = np.random.default_rng(seed=1701)\n",
    "X = rng.integers(0, 10, (4, 6))\n",
    "\n",
    "# sort each column of x\n",
    "np.sort(X, axis=0)\n",
    "\n",
    "# sort each row of x\n",
    "np.sort(X, axis=1)"
   ]
  },
  {
   "cell_type": "code",
   "execution_count": 12,
   "metadata": {},
   "outputs": [
    {
     "data": {
      "text/plain": [
       "array([[0, 3, 4, 9, 8, 6],\n",
       "       [0, 1, 3, 7, 4, 3],\n",
       "       [0, 0, 2, 3, 6, 9],\n",
       "       [0, 3, 4, 5, 5, 8]])"
      ]
     },
     "execution_count": 12,
     "metadata": {},
     "output_type": "execute_result"
    }
   ],
   "source": [
    "# sometimes just want to find K smallest values in an array\n",
    "\n",
    "# np.partition takes an array and a number k\n",
    "# result is a new array with the smallest K values to the left of the partition and the remaining values to the right\n",
    "x = np.array([7, 2, 3, 1, 6, 5, 4])\n",
    "np.partition(x, 3)\n",
    "\n",
    "# can parition along axies\n",
    "np.partition(X, 2, axis=1)"
   ]
  }
 ],
 "metadata": {
  "kernelspec": {
   "display_name": "Python 3",
   "language": "python",
   "name": "python3"
  },
  "language_info": {
   "codemirror_mode": {
    "name": "ipython",
    "version": 3
   },
   "file_extension": ".py",
   "mimetype": "text/x-python",
   "name": "python",
   "nbconvert_exporter": "python",
   "pygments_lexer": "ipython3",
   "version": "3.10.7"
  },
  "orig_nbformat": 4
 },
 "nbformat": 4,
 "nbformat_minor": 2
}
