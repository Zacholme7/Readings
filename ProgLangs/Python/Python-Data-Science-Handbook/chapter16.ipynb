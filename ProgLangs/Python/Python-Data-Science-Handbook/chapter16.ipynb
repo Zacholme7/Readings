{
 "cells": [
  {
   "cell_type": "code",
   "execution_count": 1,
   "metadata": {},
   "outputs": [],
   "source": [
    "# handling missing data\n",
    "# two general strategies\n",
    "# using a mask that indiciates missing value\n",
    "#   EX: entirely seperate boolean array\n",
    "# using a sential value that indiciates missing value\n",
    "#   EX: Nan or some value such as -999\n",
    "\n",
    "\n",
    "# pandas has two modes of storing and manipulating null avlues\n",
    "# default is to use sentiabl based data scheme with NaN or None\n",
    "# can also use nullable data types which results in creation of mask array\n",
    "\n",
    "import numpy as np\n",
    "import pandas as pd"
   ]
  },
  {
   "cell_type": "code",
   "execution_count": 4,
   "metadata": {},
   "outputs": [
    {
     "name": "stdout",
     "output_type": "stream",
     "text": [
      "319 µs ± 7.05 µs per loop (mean ± std. dev. of 7 runs, 1,000 loops each)\n",
      "30.9 ms ± 1.27 ms per loop (mean ± std. dev. of 7 runs, 10 loops each)\n"
     ]
    },
    {
     "data": {
      "text/plain": [
       "0    1.0\n",
       "1    NaN\n",
       "2    2.0\n",
       "3    NaN\n",
       "dtype: float64"
      ]
     },
     "execution_count": 4,
     "metadata": {},
     "output_type": "execute_result"
    }
   ],
   "source": [
    "# None as a sentinel value\n",
    "# None is a python object\n",
    "vals1 = np.array([1, None, 2, 3]) # treated as objects which has more overhead\n",
    "%timeit np.arange(1E6, dtype=int).sum()\n",
    "%timeit np.arange(1E6, dtype=object).sum()\n",
    "\n",
    "# Nan: Missing numerical data\n",
    "# special floating pointe value \n",
    "vals2 = np.array([1, np.nan, 3, 4]) # supports fast operations since it is seen as floating point\n",
    "# any arithmetic with NaN will be another NaN\n",
    "1 + np.nan\n",
    "\n",
    "# NaN and None in Pandas\n",
    "# pandas is built to handle two interchangably \n",
    "pd.Series([1, np.nan, 2, None]) # none is converted to nan"
   ]
  },
  {
   "cell_type": "code",
   "execution_count": 16,
   "metadata": {},
   "outputs": [
    {
     "data": {
      "text/plain": [
       "a    1\n",
       "b    0\n",
       "c    2\n",
       "d    0\n",
       "e    3\n",
       "dtype: Int32"
      ]
     },
     "execution_count": 16,
     "metadata": {},
     "output_type": "execute_result"
    }
   ],
   "source": [
    "# operating on null avlues\n",
    "# isnull: generates a boolean mask indiciating missing values\n",
    "# notnull: opposite of isnull\n",
    "# dropna: return filetered version of data\n",
    "# fillna: returns a copy of the data with missing values filled or imputed\n",
    "\n",
    "# detecting null values\n",
    "data = pd.Series([1, np.nan, \"hello\", None])\n",
    "data[data.isnull()]\n",
    "data[data.notnull()]\n",
    "\n",
    "data.dropna()\n",
    "\n",
    "# can only drop entire rows of columns\n",
    "df = pd.DataFrame([[1, np.nan, 2], [2, 3, 5], [np.nan, 4, 6]])\n",
    "# by default, dropna will drop all rows in which any null value is present\n",
    "df.dropna()\n",
    "# can also specity axis\n",
    "df.dropna(axis=\"columns\")\n",
    "# how=any will drop nay row column contain a null value\n",
    "# how = all will drop only row/cols that contain all null avlues\n",
    "df[3] = np.nan\n",
    "df.dropna(axis=\"columns\", how=\"all\")\n",
    "# thresh lets you specify a minimum number of non null values for row/col to be kept\n",
    "df.dropna(axis=\"rows\", thresh=3)\n",
    "\n",
    "\n",
    "# filling null values\n",
    "data = pd.Series([1, np.nan, 2, None, 3], index=list('abcde'),dtype='Int32')\n",
    "data.fillna(0) # fill na entires with single value 0\n",
    "data.fillna(method=\"ffill\") # forward fill to propogate previous value\n",
    "data.fillna(method=\"bfill\") # backwards fill to propograte next value"
   ]
  },
  {
   "cell_type": "code",
   "execution_count": null,
   "metadata": {},
   "outputs": [],
   "source": []
  }
 ],
 "metadata": {
  "kernelspec": {
   "display_name": "Python 3",
   "language": "python",
   "name": "python3"
  },
  "language_info": {
   "codemirror_mode": {
    "name": "ipython",
    "version": 3
   },
   "file_extension": ".py",
   "mimetype": "text/x-python",
   "name": "python",
   "nbconvert_exporter": "python",
   "pygments_lexer": "ipython3",
   "version": "3.10.7"
  },
  "orig_nbformat": 4
 },
 "nbformat": 4,
 "nbformat_minor": 2
}
