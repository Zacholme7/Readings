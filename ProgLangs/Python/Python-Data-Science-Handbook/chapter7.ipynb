{
 "cells": [
  {
   "cell_type": "code",
   "execution_count": 1,
   "metadata": {},
   "outputs": [],
   "source": [
    "# first step in exploring any data set is often to compute various statistics\n",
    "# numpy has fast built in aggregation functions for working on arrays"
   ]
  },
  {
   "cell_type": "code",
   "execution_count": 5,
   "metadata": {},
   "outputs": [
    {
     "name": "stdout",
     "output_type": "stream",
     "text": [
      "5.5 µs ± 92.7 ns per loop (mean ± std. dev. of 7 runs, 100,000 loops each)\n",
      "1.64 µs ± 29.5 ns per loop (mean ± std. dev. of 7 runs, 1,000,000 loops each)\n"
     ]
    }
   ],
   "source": [
    "import numpy as np\n",
    "rng = np.random.default_rng()\n",
    "\n",
    "# computing the sum of all values in an array\n",
    "x = rng.random(100)\n",
    "%timeit sum(x)\n",
    "%timeit np.sum(x) # numpy version is faster\n",
    "\n"
   ]
  },
  {
   "cell_type": "code",
   "execution_count": 9,
   "metadata": {},
   "outputs": [
    {
     "data": {
      "text/plain": [
       "(1.2472657524353892e-05, 0.9999876872761552, 50090.194747878915)"
      ]
     },
     "execution_count": 9,
     "metadata": {},
     "output_type": "execute_result"
    }
   ],
   "source": [
    "# also have min and max functions\n",
    "x = rng.random(100000)\n",
    "min(x), max(x)\n",
    "np.min(x), np.max(x) # operate faster\n",
    "\n",
    "# can also just call it on the object itself\n",
    "x.min(), x.max(), x.sum()"
   ]
  },
  {
   "cell_type": "code",
   "execution_count": 16,
   "metadata": {},
   "outputs": [
    {
     "data": {
      "text/plain": [
       "array([13, 28, 28])"
      ]
     },
     "execution_count": 16,
     "metadata": {},
     "output_type": "execute_result"
    }
   ],
   "source": [
    "# can aggregate along a row or column\n",
    "x = rng.integers(0, 10, (3,4))\n",
    "# can specify axis\n",
    "x.sum(axis = 0) # sum the columns\n",
    "x.sum(axis = 1) # sum the rows"
   ]
  },
  {
   "cell_type": "code",
   "execution_count": 17,
   "metadata": {},
   "outputs": [
    {
     "data": {
      "text/plain": [
       "' \\nName           Nan Safe         Description\\nnp.sum         np.nansum        Compute sum of elements\\nnp.prod        np.nanprod       Compute product of elements\\nnp.mean        np.nanmean       Compute mean of elements\\nnp.std         np.nanstd        Compute standard deviation\\nnp.var         np.nanvar        Compute variance\\nnp.min         np.nanmin        Find minimum value\\nnp.max         np.nanmax        Find maximum value\\nnp.argmin      np.nanargmin     Find index of minimum value\\nnp.argmax      np.nanargmax     Find index of maximum value\\nnp.median      np.nanmedian     Compute median of elements\\nnp.percentile  np.nanpercentile Compute rank-based statistics of elements\\nnp.any         N/A              Evaluate whether any elements are true\\nnp.all         N/A              Evaluate whether all elements are true\\n'"
      ]
     },
     "execution_count": 17,
     "metadata": {},
     "output_type": "execute_result"
    }
   ],
   "source": [
    "# other aggregation functionsed for up to 5% s\n",
    "''' \n",
    "Name           Nan Safe         Description\n",
    "np.sum         np.nansum        Compute sum of elements\n",
    "np.prod        np.nanprod       Compute product of elements\n",
    "np.mean        np.nanmean       Compute mean of elements\n",
    "np.std         np.nanstd        Compute standard deviation\n",
    "np.var         np.nanvar        Compute variance\n",
    "np.min         np.nanmin        Find minimum value\n",
    "np.max         np.nanmax        Find maximum value\n",
    "np.argmin      np.nanargmin     Find index of minimum value\n",
    "np.argmax      np.nanargmax     Find index of maximum value\n",
    "np.median      np.nanmedian     Compute median of elements\n",
    "np.percentile  np.nanpercentile Compute rank-based statistics of elements\n",
    "np.any         N/A              Evaluate whether any elements are true\n",
    "np.all         N/A              Evaluate whether all elements are true\n",
    "'''"
   ]
  },
  {
   "cell_type": "code",
   "execution_count": 22,
   "metadata": {},
   "outputs": [],
   "source": [
    "# Example: what is the average height of the US presidents\n",
    "import pandas as pd\n",
    "data = pd.read_csv(\"Data/president_heights.csv\")"
   ]
  },
  {
   "cell_type": "code",
   "execution_count": 25,
   "metadata": {},
   "outputs": [
    {
     "data": {
      "text/plain": [
       "array([189, 170, 189, 163, 183, 171, 185, 168, 173, 183, 173, 173, 175,\n",
       "       178, 183, 193, 178, 173, 174, 183, 183, 168, 170, 178, 182, 180,\n",
       "       183, 178, 182, 188, 175, 179, 183, 193, 182, 183, 177, 185, 188,\n",
       "       188, 182, 185, 191, 182])"
      ]
     },
     "execution_count": 25,
     "metadata": {},
     "output_type": "execute_result"
    }
   ],
   "source": [
    "heights = np.array(data[\"height(cm)\"])\n",
    "heights"
   ]
  },
  {
   "cell_type": "code",
   "execution_count": 26,
   "metadata": {},
   "outputs": [
    {
     "name": "stdout",
     "output_type": "stream",
     "text": [
      "Mean height: 180.04545454545453\n",
      "Standard deviation: 6.983599441335736\n",
      "Minimum height: 163\n",
      "Maximum height: 193\n",
      "25th percentile: 174.75\n",
      "Median: 182.0\n",
      "75th percentile: 183.5\n"
     ]
    }
   ],
   "source": [
    "print(\"Mean height:\", heights.mean())\n",
    "print(\"Standard deviation:\", heights.std())\n",
    "print(\"Minimum height:\", heights.min())\n",
    "print(\"Maximum height:\", heights.max())\n",
    "print(\"25th percentile:\", np.percentile(heights, 25))\n",
    "print(\"Median:\", np.median(heights))\n",
    "print(\"75th percentile:\", np.percentile(heights, 75))\n"
   ]
  }
 ],
 "metadata": {
  "kernelspec": {
   "display_name": "Python 3",
   "language": "python",
   "name": "python3"
  },
  "language_info": {
   "codemirror_mode": {
    "name": "ipython",
    "version": 3
   },
   "file_extension": ".py",
   "mimetype": "text/x-python",
   "name": "python",
   "nbconvert_exporter": "python",
   "pygments_lexer": "ipython3",
   "version": "3.10.7"
  },
  "orig_nbformat": 4
 },
 "nbformat": 4,
 "nbformat_minor": 2
}
